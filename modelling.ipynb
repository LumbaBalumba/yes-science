{
 "cells": [
  {
   "cell_type": "code",
   "execution_count": null,
   "metadata": {},
   "outputs": [],
   "source": [
    "def model_levy(t, mu, sigma):\n",
    "    N = len(t)\n",
    "    W = np.random.randn(N) * t\n",
    "    J = np,random.poisson()"
   ]
  }
 ],
 "metadata": {
  "language_info": {
   "name": "python"
  }
 },
 "nbformat": 4,
 "nbformat_minor": 2
}
