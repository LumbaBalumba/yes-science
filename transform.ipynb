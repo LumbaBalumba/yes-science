{
 "cells": [
  {
   "cell_type": "code",
   "execution_count": 16,
   "metadata": {},
   "outputs": [],
   "source": [
    "import pandas as pd\n",
    "import numpy as np"
   ]
  },
  {
   "cell_type": "code",
   "execution_count": 17,
   "metadata": {},
   "outputs": [],
   "source": [
    "df = pd.read_excel(\"Book2.xlsx\")"
   ]
  },
  {
   "cell_type": "code",
   "execution_count": 18,
   "metadata": {},
   "outputs": [],
   "source": [
    "samples = []"
   ]
  },
  {
   "cell_type": "code",
   "execution_count": 19,
   "metadata": {},
   "outputs": [],
   "source": [
    "for i in range(len(df)):\n",
    "    x = list(map(float, df.columns))\n",
    "    y = df.loc[i]\n",
    "    samples.append((x, y))"
   ]
  },
  {
   "cell_type": "code",
   "execution_count": 20,
   "metadata": {},
   "outputs": [],
   "source": [
    "samples = np.array(samples)"
   ]
  },
  {
   "cell_type": "code",
   "execution_count": 21,
   "metadata": {},
   "outputs": [
    {
     "data": {
      "text/plain": [
       "array([[[0.00e+00, 5.00e-01, 1.00e+00, ..., 4.80e+01, 7.20e+01,\n",
       "         9.60e+01],\n",
       "        [0.00e+00, 4.07e+02, 1.00e+03, ..., 1.81e+02, 5.16e+01,\n",
       "         1.38e+01]],\n",
       "\n",
       "       [[0.00e+00, 5.00e-01, 1.00e+00, ..., 4.80e+01, 7.20e+01,\n",
       "         9.60e+01],\n",
       "        [0.00e+00, 1.21e+02, 2.25e+02, ..., 3.23e+02, 8.98e+01,\n",
       "         3.29e+01]],\n",
       "\n",
       "       [[0.00e+00, 5.00e-01, 1.00e+00, ..., 4.80e+01, 7.20e+01,\n",
       "         9.60e+01],\n",
       "        [0.00e+00, 1.57e+02, 4.53e+02, ..., 7.55e+01, 2.19e+01,\n",
       "         0.00e+00]],\n",
       "\n",
       "       ...,\n",
       "\n",
       "       [[0.00e+00, 5.00e-01, 1.00e+00, ..., 4.80e+01, 7.20e+01,\n",
       "         9.60e+01],\n",
       "        [0.00e+00, 4.32e+01, 1.40e+02, ..., 1.73e+02, 6.84e+01,\n",
       "         2.45e+01]],\n",
       "\n",
       "       [[0.00e+00, 5.00e-01, 1.00e+00, ..., 4.80e+01, 7.20e+01,\n",
       "         9.60e+01],\n",
       "        [0.00e+00, 5.24e+01, 7.83e+01, ..., 5.02e+02, 2.82e+02,\n",
       "         1.97e+02]],\n",
       "\n",
       "       [[0.00e+00, 5.00e-01, 1.00e+00, ..., 4.80e+01, 7.20e+01,\n",
       "         9.60e+01],\n",
       "        [0.00e+00, 1.20e+02, 2.79e+02, ..., 4.85e+02, 2.31e+02,\n",
       "         3.30e+01]]])"
      ]
     },
     "execution_count": 21,
     "metadata": {},
     "output_type": "execute_result"
    }
   ],
   "source": [
    "samples"
   ]
  },
  {
   "cell_type": "code",
   "execution_count": 23,
   "metadata": {},
   "outputs": [],
   "source": [
    "np.save(\"samples\", samples)"
   ]
  }
 ],
 "metadata": {
  "kernelspec": {
   "display_name": ".venv",
   "language": "python",
   "name": "python3"
  },
  "language_info": {
   "codemirror_mode": {
    "name": "ipython",
    "version": 3
   },
   "file_extension": ".py",
   "mimetype": "text/x-python",
   "name": "python",
   "nbconvert_exporter": "python",
   "pygments_lexer": "ipython3",
   "version": "3.12.7"
  }
 },
 "nbformat": 4,
 "nbformat_minor": 2
}
